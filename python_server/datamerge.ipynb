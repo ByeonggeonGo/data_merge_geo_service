{
 "cells": [
  {
   "cell_type": "code",
   "execution_count": 1,
   "metadata": {},
   "outputs": [
    {
     "data": {
      "text/plain": [
       "'c:\\\\Users\\\\Go\\\\OneDrive - UOS\\\\allrepos\\\\data_merge_geo_service'"
      ]
     },
     "execution_count": 1,
     "metadata": {},
     "output_type": "execute_result"
    }
   ],
   "source": [
    "import os\n",
    "import pandas as pd\n",
    "import numpy as np\n",
    "path = os.getcwd()"
   ]
  },
  {
   "cell_type": "code",
   "execution_count": 9,
   "metadata": {},
   "outputs": [],
   "source": [
    "em_meta = pd.read_csv(os.path.join(path,'data', 'em_meta.csv'), encoding='euc-kr')\n",
    "em_df = pd.read_csv(os.path.join(path,'data', 'em.csv'), encoding='euc-kr')"
   ]
  },
  {
   "cell_type": "code",
   "execution_count": 10,
   "metadata": {},
   "outputs": [
    {
     "data": {
      "text/html": [
       "<div>\n",
       "<style scoped>\n",
       "    .dataframe tbody tr th:only-of-type {\n",
       "        vertical-align: middle;\n",
       "    }\n",
       "\n",
       "    .dataframe tbody tr th {\n",
       "        vertical-align: top;\n",
       "    }\n",
       "\n",
       "    .dataframe thead th {\n",
       "        text-align: right;\n",
       "    }\n",
       "</style>\n",
       "<table border=\"1\" class=\"dataframe\">\n",
       "  <thead>\n",
       "    <tr style=\"text-align: right;\">\n",
       "      <th></th>\n",
       "      <th>Unnamed: 0</th>\n",
       "      <th>code</th>\n",
       "      <th>x</th>\n",
       "      <th>y</th>\n",
       "    </tr>\n",
       "  </thead>\n",
       "  <tbody>\n",
       "    <tr>\n",
       "      <th>0</th>\n",
       "      <td>0</td>\n",
       "      <td>속초</td>\n",
       "      <td>128.5647</td>\n",
       "      <td>38.2509</td>\n",
       "    </tr>\n",
       "    <tr>\n",
       "      <th>1</th>\n",
       "      <td>1</td>\n",
       "      <td>북춘천</td>\n",
       "      <td>127.7544</td>\n",
       "      <td>37.9474</td>\n",
       "    </tr>\n",
       "    <tr>\n",
       "      <th>2</th>\n",
       "      <td>2</td>\n",
       "      <td>철원</td>\n",
       "      <td>127.3042</td>\n",
       "      <td>38.1479</td>\n",
       "    </tr>\n",
       "    <tr>\n",
       "      <th>3</th>\n",
       "      <td>3</td>\n",
       "      <td>동두천</td>\n",
       "      <td>127.0607</td>\n",
       "      <td>37.9019</td>\n",
       "    </tr>\n",
       "    <tr>\n",
       "      <th>4</th>\n",
       "      <td>4</td>\n",
       "      <td>파주</td>\n",
       "      <td>126.7665</td>\n",
       "      <td>37.8859</td>\n",
       "    </tr>\n",
       "    <tr>\n",
       "      <th>...</th>\n",
       "      <td>...</td>\n",
       "      <td>...</td>\n",
       "      <td>...</td>\n",
       "      <td>...</td>\n",
       "    </tr>\n",
       "    <tr>\n",
       "      <th>126</th>\n",
       "      <td>126</td>\n",
       "      <td>청송군</td>\n",
       "      <td>129.0401</td>\n",
       "      <td>36.4351</td>\n",
       "    </tr>\n",
       "    <tr>\n",
       "      <th>127</th>\n",
       "      <td>127</td>\n",
       "      <td>청송군</td>\n",
       "      <td>129.0401</td>\n",
       "      <td>36.4351</td>\n",
       "    </tr>\n",
       "    <tr>\n",
       "      <th>128</th>\n",
       "      <td>128</td>\n",
       "      <td>영덕</td>\n",
       "      <td>129.4093</td>\n",
       "      <td>36.5334</td>\n",
       "    </tr>\n",
       "    <tr>\n",
       "      <th>129</th>\n",
       "      <td>129</td>\n",
       "      <td>의성</td>\n",
       "      <td>128.6886</td>\n",
       "      <td>36.3561</td>\n",
       "    </tr>\n",
       "    <tr>\n",
       "      <th>130</th>\n",
       "      <td>130</td>\n",
       "      <td>구미</td>\n",
       "      <td>128.3206</td>\n",
       "      <td>36.1306</td>\n",
       "    </tr>\n",
       "  </tbody>\n",
       "</table>\n",
       "<p>131 rows × 4 columns</p>\n",
       "</div>"
      ],
      "text/plain": [
       "     Unnamed: 0 code         x        y\n",
       "0             0   속초  128.5647  38.2509\n",
       "1             1  북춘천  127.7544  37.9474\n",
       "2             2   철원  127.3042  38.1479\n",
       "3             3  동두천  127.0607  37.9019\n",
       "4             4   파주  126.7665  37.8859\n",
       "..          ...  ...       ...      ...\n",
       "126         126  청송군  129.0401  36.4351\n",
       "127         127  청송군  129.0401  36.4351\n",
       "128         128   영덕  129.4093  36.5334\n",
       "129         129   의성  128.6886  36.3561\n",
       "130         130   구미  128.3206  36.1306\n",
       "\n",
       "[131 rows x 4 columns]"
      ]
     },
     "execution_count": 10,
     "metadata": {},
     "output_type": "execute_result"
    }
   ],
   "source": [
    "em_meta"
   ]
  }
 ],
 "metadata": {
  "kernelspec": {
   "display_name": "Python 3.9.13 ('geo_pd')",
   "language": "python",
   "name": "python3"
  },
  "language_info": {
   "codemirror_mode": {
    "name": "ipython",
    "version": 3
   },
   "file_extension": ".py",
   "mimetype": "text/x-python",
   "name": "python",
   "nbconvert_exporter": "python",
   "pygments_lexer": "ipython3",
   "version": "3.9.13"
  },
  "orig_nbformat": 4,
  "vscode": {
   "interpreter": {
    "hash": "88b14b9c90d78b9577938163650f1d5f2038951c030afae248cbbb3f6d0fff9c"
   }
  }
 },
 "nbformat": 4,
 "nbformat_minor": 2
}
